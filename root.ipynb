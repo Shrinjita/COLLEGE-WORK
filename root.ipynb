{
 "cells": [
  {
   "cell_type": "code",
   "execution_count": 3,
   "metadata": {},
   "outputs": [
    {
     "name": "stdout",
     "output_type": "stream",
     "text": [
      "Invalid vehicle number. Non-numeric characters found in vehicle number.\n"
     ]
    }
   ],
   "source": [
    "def sum_digits(digits):\n",
    "    \"\"\"Calculates the sum of the four digits in the vehicle number.\"\"\"\n",
    "    total = 0\n",
    "    for digit in digits:\n",
    "        total += int(digit)\n",
    "    return total\n",
    "\n",
    "def main():\n",
    "    \"\"\"Reads vehicle number, extracts state, district, and calculates digit sum.\"\"\"\n",
    "\n",
    "    # Regional Transport Office (RTO) codes (dictionary for clarity)\n",
    "    rto_codes = {\n",
    "        \"TR\": \"Tripura\",\n",
    "        \"MZ\": \"Mizoram\"\n",
    "    }\n",
    "\n",
    "    # District codes and corresponding names (dictionary for maintainability)\n",
    "    district_codes = {\n",
    "        \"01\": \"Agartala\",\n",
    "        \"02\": \"Khowai\",\n",
    "        \"03\": \"Udaipur\",\n",
    "        \"04\": \"Belonia\",\n",
    "        \"05\": \"Sabroom\",\n",
    "        \"06\": \"Kailashahar\",\n",
    "        \"07\": \"Dharmanagar\",\n",
    "        \"08\": \"Kamalpur\"\n",
    "    }\n",
    "    \n",
    "\n",
    "    # Input validation (consider using regular expressions for more robust checks)\n",
    "    while True:\n",
    "        vehicle_number = input(\"Enter vehicle number (XXYYZZABCD format): \").upper()\n",
    "        if len(vehicle_number) != 10 or not vehicle_number.isalnum():\n",
    "            print(\"Invalid vehicle number format. Please try again.\")\n",
    "            continue\n",
    "\n",
    "        state_code, district_code, vehicle_digits = vehicle_number[:2], vehicle_number[2:4], vehicle_number[4:]\n",
    "        break\n",
    "\n",
    "    # State and district lookup\n",
    "    try:\n",
    "        state = rto_codes[state_code]\n",
    "        district = district_codes[district_code]\n",
    "    except KeyError:\n",
    "        print(\"Invalid state code. Please enter TR or MZ.\")\n",
    "        return  # Exit the program\n",
    "\n",
    "    vehicle_digits = vehicle_number[4:]\n",
    "    try:\n",
    "        vehicle_digits = [int(digit) for digit in vehicle_digits]  # Attempt conversion\n",
    "    except ValueError:\n",
    "        print(\"Invalid vehicle number. Non-numeric characters found in vehicle number.\")\n",
    "        return \n",
    "\n",
    "    # Calculate digit sum\n",
    "    digit_sum = sum_digits(vehicle_digits)\n",
    "\n",
    "    # Output\n",
    "    print(f\"State: {state}\")\n",
    "    print(f\"District: {district}\")\n",
    "    print(f\"Sum: {digit_sum}\")\n",
    "\n",
    "if __name__ == \"__main__\":\n",
    "    main()\n"
   ]
  },
  {
   "cell_type": "code",
   "execution_count": null,
   "metadata": {},
   "outputs": [],
   "source": [
    "def main():\n",
    "    # ... (rest of the code)\n",
    "\n",
    "    # Exit the program\n",
    "\n",
    "    # ... (rest of the code)\n"
   ]
  }
 ],
 "metadata": {
  "kernelspec": {
   "display_name": "base",
   "language": "python",
   "name": "python3"
  },
  "language_info": {
   "codemirror_mode": {
    "name": "ipython",
    "version": 3
   },
   "file_extension": ".py",
   "mimetype": "text/x-python",
   "name": "python",
   "nbconvert_exporter": "python",
   "pygments_lexer": "ipython3",
   "version": "3.9.13"
  }
 },
 "nbformat": 4,
 "nbformat_minor": 2
}
